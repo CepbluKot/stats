{
 "cells": [
  {
   "cell_type": "code",
   "execution_count": 11,
   "metadata": {},
   "outputs": [
    {
     "data": {
      "text/html": [
       "<div>\n",
       "<style scoped>\n",
       "    .dataframe tbody tr th:only-of-type {\n",
       "        vertical-align: middle;\n",
       "    }\n",
       "\n",
       "    .dataframe tbody tr th {\n",
       "        vertical-align: top;\n",
       "    }\n",
       "\n",
       "    .dataframe thead th {\n",
       "        text-align: right;\n",
       "    }\n",
       "</style>\n",
       "<table border=\"1\" class=\"dataframe\">\n",
       "  <thead>\n",
       "    <tr style=\"text-align: right;\">\n",
       "      <th></th>\n",
       "      <th>year</th>\n",
       "      <th>amount</th>\n",
       "    </tr>\n",
       "  </thead>\n",
       "  <tbody>\n",
       "    <tr>\n",
       "      <th>0</th>\n",
       "      <td>2011</td>\n",
       "      <td>2404.8</td>\n",
       "    </tr>\n",
       "    <tr>\n",
       "      <th>1</th>\n",
       "      <td>2012</td>\n",
       "      <td>2302.2</td>\n",
       "    </tr>\n",
       "    <tr>\n",
       "      <th>2</th>\n",
       "      <td>2013</td>\n",
       "      <td>2206.2</td>\n",
       "    </tr>\n",
       "    <tr>\n",
       "      <th>3</th>\n",
       "      <td>2014</td>\n",
       "      <td>2190.6</td>\n",
       "    </tr>\n",
       "    <tr>\n",
       "      <th>4</th>\n",
       "      <td>2015</td>\n",
       "      <td>2388.5</td>\n",
       "    </tr>\n",
       "    <tr>\n",
       "      <th>5</th>\n",
       "      <td>2016</td>\n",
       "      <td>2160.1</td>\n",
       "    </tr>\n",
       "    <tr>\n",
       "      <th>6</th>\n",
       "      <td>2017</td>\n",
       "      <td>2058.5</td>\n",
       "    </tr>\n",
       "    <tr>\n",
       "      <th>7</th>\n",
       "      <td>2018</td>\n",
       "      <td>1991.5</td>\n",
       "    </tr>\n",
       "    <tr>\n",
       "      <th>8</th>\n",
       "      <td>2019</td>\n",
       "      <td>2024.3</td>\n",
       "    </tr>\n",
       "    <tr>\n",
       "      <th>9</th>\n",
       "      <td>2020</td>\n",
       "      <td>2044.2</td>\n",
       "    </tr>\n",
       "    <tr>\n",
       "      <th>10</th>\n",
       "      <td>2021</td>\n",
       "      <td>2004.4</td>\n",
       "    </tr>\n",
       "    <tr>\n",
       "      <th>11</th>\n",
       "      <td>2022</td>\n",
       "      <td>1966.8</td>\n",
       "    </tr>\n",
       "  </tbody>\n",
       "</table>\n",
       "</div>"
      ],
      "text/plain": [
       "    year  amount\n",
       "0   2011  2404.8\n",
       "1   2012  2302.2\n",
       "2   2013  2206.2\n",
       "3   2014  2190.6\n",
       "4   2015  2388.5\n",
       "5   2016  2160.1\n",
       "6   2017  2058.5\n",
       "7   2018  1991.5\n",
       "8   2019  2024.3\n",
       "9   2020  2044.2\n",
       "10  2021  2004.4\n",
       "11  2022  1966.8"
      ]
     },
     "execution_count": 11,
     "metadata": {},
     "output_type": "execute_result"
    }
   ],
   "source": [
    "import matplotlib.pyplot as plt\n",
    "import seaborn as sns\n",
    "import numpy as np\n",
    "import pandas as pd\n",
    "import math\n",
    "\n",
    "\n",
    "data = [[2011, 2404.8],\n",
    "        [2012, 2302.2],\n",
    "        [2013, 2206.2],\n",
    "        [2014, 2190.6],\n",
    "        [2015, 2388.5],\n",
    "        [2016, 2160.1],\n",
    "        [2017, 2058.5],\n",
    "        [2018, 1991.5],\n",
    "        [2019, 2024.3],\n",
    "        [2020, 2044.2],\n",
    "        [2021, 2004.4],\n",
    "        [2022, 1966.8],  \n",
    "        ]\n",
    "\n",
    "\n",
    "df = pd.DataFrame(data, columns=['year', 'amount'])\n",
    " \n",
    "df"
   ]
  },
  {
   "cell_type": "markdown",
   "metadata": {},
   "source": [
    "Прогнозирование методом аналитического выравнивания"
   ]
  },
  {
   "cell_type": "code",
   "execution_count": 12,
   "metadata": {},
   "outputs": [],
   "source": [
    "sum_yi_ti = 0\n",
    "sum_yi = sum(df['amount'])\n",
    "sum_ti = sum(df['year'])\n",
    "\n",
    "# E ti^2\n",
    "sum_ti_2 = 0\n",
    "\n",
    "# (E ti)^2\n",
    "sum_ti_2_2 = sum_ti**2\n",
    "\n",
    "\n",
    "n = 10\n",
    "\n",
    "for id in range(10+1):\n",
    "    t_i = df['year'][id]\n",
    "    y_i = df['amount'][id]\n",
    "\n",
    "    sum_yi_ti += y_i*t_i\n",
    "    sum_ti_2 += t_i ** 2\n",
    "\n",
    "\n",
    "\n",
    "b = (sum_yi_ti - 1/n * sum_yi * sum_ti)/(sum_ti_2 - 1/n * sum_ti_2_2)\n",
    "a = 1/n *(sum_yi - b * sum_ti)"
   ]
  },
  {
   "cell_type": "code",
   "execution_count": 13,
   "metadata": {},
   "outputs": [
    {
     "name": "stdout",
     "output_type": "stream",
     "text": [
      "2161.5681970551805\n"
     ]
    }
   ],
   "source": [
    "def func(t: int):\n",
    "    return a + b * t\n",
    "\n",
    "print(func(2022))"
   ]
  }
 ],
 "metadata": {
  "kernelspec": {
   "display_name": "Python 3",
   "language": "python",
   "name": "python3"
  },
  "language_info": {
   "codemirror_mode": {
    "name": "ipython",
    "version": 3
   },
   "file_extension": ".py",
   "mimetype": "text/x-python",
   "name": "python",
   "nbconvert_exporter": "python",
   "pygments_lexer": "ipython3",
   "version": "3.10.12"
  }
 },
 "nbformat": 4,
 "nbformat_minor": 2
}
