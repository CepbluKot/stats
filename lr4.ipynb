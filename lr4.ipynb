{
 "cells": [
  {
   "cell_type": "code",
   "execution_count": 1,
   "metadata": {},
   "outputs": [
    {
     "ename": "SyntaxError",
     "evalue": "expression cannot contain assignment, perhaps you meant \"==\"? (785646597.py, line 24)",
     "output_type": "error",
     "traceback": [
      "\u001b[0;36m  Cell \u001b[0;32mIn[1], line 24\u001b[0;36m\u001b[0m\n\u001b[0;31m    df = pd.DataFrame(data.columns=['Месяц', '2020', '2021', '2022'])\u001b[0m\n\u001b[0m                      ^\u001b[0m\n\u001b[0;31mSyntaxError\u001b[0m\u001b[0;31m:\u001b[0m expression cannot contain assignment, perhaps you meant \"==\"?\n"
     ]
    }
   ],
   "source": [
    "import matplotlib.pyplot as plt\n",
    "import seaborn as sns\n",
    "import numpy as np\n",
    "import pandas as pd\n",
    "import math\n",
    "\n",
    "\n",
    "data = [\n",
    "        ['Январь', 159.2, 148.7, 149.5],\n",
    "    ['Февраль', 168.1, 160.7, 153.4],\n",
    "    ['Март', 183.3, 192.2, 179.7],\n",
    "    ['Апрель', 161.9, 178.2, 170.7],\n",
    "    ['Май', 159.9, 165.9, 169.2],\n",
    "    ['Июнь', 178.7, 176.4, 181.3],\n",
    "    ['Июль', 178.4, 166.1, 163.5],\n",
    "    ['Август', 177.9, 168.2, 168.5],\n",
    "    ['Сентябрь', 172.8, 165.2, 162.4],\n",
    "    ['Октябрь', 199.5, 184.3, 179.1],\n",
    "    ['Ноябрь', 150.8, 147.3, 146.3],\n",
    "    ['Декабрь', 153.7, 151.3, 143.4]\n",
    "]\n",
    "\n",
    "\n",
    "df = pd.DataFrame(data, columns=['Месяц', '2020', '2021', '2022'])\n",
    " \n",
    "df"
   ]
  }
 ],
 "metadata": {
  "kernelspec": {
   "display_name": "Python 3",
   "language": "python",
   "name": "python3"
  },
  "language_info": {
   "codemirror_mode": {
    "name": "ipython",
    "version": 3
   },
   "file_extension": ".py",
   "mimetype": "text/x-python",
   "name": "python",
   "nbconvert_exporter": "python",
   "pygments_lexer": "ipython3",
   "version": "3.10.12"
  }
 },
 "nbformat": 4,
 "nbformat_minor": 2
}
