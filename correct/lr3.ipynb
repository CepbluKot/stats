{
 "cells": [
  {
   "cell_type": "code",
   "execution_count": 317,
   "metadata": {},
   "outputs": [],
   "source": [
    "import matplotlib.pyplot as plt\n",
    "import seaborn as sns\n",
    "import numpy as np\n",
    "import math\n",
    "import warnings\n",
    "\n",
    "\n",
    "warnings.filterwarnings('ignore')\n",
    "\n",
    "\n",
    "data = None\n",
    "with open('Москва_2021.txt') as file:\n",
    "    data = [int(line.rstrip()) for line in file]\n"
   ]
  },
  {
   "cell_type": "code",
   "execution_count": 318,
   "metadata": {},
   "outputs": [],
   "source": [
    "def count_mathematical_expectation(data: list):\n",
    "    num_of_occurrences = {}\n",
    "\n",
    "    for val in data:\n",
    "        if val not in num_of_occurrences:\n",
    "            num_of_occurrences[val] = 1\n",
    "        else:\n",
    "            num_of_occurrences[val] += 1 \n",
    "\n",
    "    mat_exp = 0\n",
    "\n",
    "    for val in num_of_occurrences:\n",
    "        mat_exp += (num_of_occurrences[val] / len(data)) * val\n",
    "\n",
    "    return mat_exp\n",
    "\n",
    "\n",
    "def count_dispersion(data: list):\n",
    "    num_of_occurrences = {}\n",
    "\n",
    "    for val in data:\n",
    "        if val not in num_of_occurrences:\n",
    "            num_of_occurrences[val] = 1\n",
    "        else:\n",
    "            num_of_occurrences[val] += 1 \n",
    "\n",
    "    mat_exp = count_mathematical_expectation(data)\n",
    "    dispersion = 0\n",
    "\n",
    "    for val in num_of_occurrences:\n",
    "        dispersion += (val - mat_exp) ** 2 * (num_of_occurrences[val] / len(data))\n",
    "    \n",
    "    return dispersion\n",
    "\n",
    "\n",
    "def count_sko(data):\n",
    "    return count_dispersion(data) ** 0.5\n",
    "\n",
    "\n",
    "def count_avg(data: list):\n",
    "    return sum(data) / len(data)\n",
    "\n",
    "\n",
    "def count_avg(data: list):\n",
    "    return sum(data) / len(data)\n",
    "\n",
    "def count_mathematical_expectation(data: list):\n",
    "    num_of_occurrences = {}\n",
    "\n",
    "    for val in data:\n",
    "        if val not in num_of_occurrences:\n",
    "            num_of_occurrences[val] = 1\n",
    "        else:\n",
    "            num_of_occurrences[val] += 1 \n",
    "\n",
    "    mat_exp = 0\n",
    "\n",
    "    for val in num_of_occurrences:\n",
    "        mat_exp += (num_of_occurrences[val] / len(data)) * val\n",
    "\n",
    "    return mat_exp\n",
    "\n",
    "\n",
    "def count_dispersion(data: list):\n",
    "    num_of_occurrences = {}\n",
    "\n",
    "    for val in data:\n",
    "        if val not in num_of_occurrences:\n",
    "            num_of_occurrences[val] = 1\n",
    "        else:\n",
    "            num_of_occurrences[val] += 1 \n",
    "\n",
    "    mat_exp = count_mathematical_expectation(data)\n",
    "    dispersion = 0\n",
    "\n",
    "    for val in num_of_occurrences:\n",
    "        dispersion += (val - mat_exp) ** 2 * (num_of_occurrences[val] / len(data))\n",
    "    \n",
    "    return dispersion\n",
    "\n",
    "\n",
    "def count_sko(data):\n",
    "    return count_dispersion(data) ** 0.5\n",
    "\n",
    "\n",
    "def count_var_coef(data):\n",
    "    return count_sko(data) / count_mathematical_expectation(data)\n",
    "\n",
    "def count_moda(data):\n",
    "    num_of_occurrences = {}\n",
    "\n",
    "    for val in data:\n",
    "        if val not in num_of_occurrences:\n",
    "            num_of_occurrences[val] = 1\n",
    "        else:\n",
    "            num_of_occurrences[val] += 1 \n",
    "    \n",
    "    max_val = max(num_of_occurrences, key=num_of_occurrences.get)\n",
    "    max_val_freq = num_of_occurrences[max_val] / len(data)\n",
    "\n",
    "    return [max_val, num_of_occurrences[max_val], len(data)]\n",
    "\n",
    "def count_razmax(data):\n",
    "    return max(data) - min(data)\n",
    "\n",
    "def find_second_max_and_min(data):\n",
    "\n",
    "    sorted_data = sorted(set(data))\n",
    "    \n",
    "    return sorted_data[1], sorted_data[-2]\n",
    "\n",
    "def find_k_momentum(data: list, k: int):\n",
    "    num_of_occurrences = {}\n",
    "\n",
    "    for val in data:\n",
    "        if val not in num_of_occurrences:\n",
    "            num_of_occurrences[val] = 1\n",
    "        else:\n",
    "            num_of_occurrences[val] += 1 \n",
    "    \n",
    "    mat_exp = count_mathematical_expectation(data)\n",
    "\n",
    "    momentum = 0\n",
    "\n",
    "    for val in num_of_occurrences:\n",
    "        momentum += (val - mat_exp) ** k * (num_of_occurrences[val] / len(data))\n",
    "    \n",
    "    return momentum\n",
    "\n",
    "def count_asymmetry(data):\n",
    "    return find_k_momentum(data, 3) / (count_sko(data) ** 3)\n",
    "\n",
    "def count_excess(data):\n",
    "    return find_k_momentum(data, 4) / (count_sko(data) ** 4) - 3\n",
    "\n",
    "\n",
    "def count_median(data):\n",
    "    if len(data) % 2 == 1:\n",
    "        m = (len(data)-1) // 2\n",
    "        return sorted(data)[m+1]\n",
    "    else:\n",
    "        m = len(data) // 2\n",
    "        return (sorted(data)[m] + sorted(data)[m+1])/2\n",
    "\n",
    "\n",
    "def count_frequencies(data):\n",
    "    num_of_occurrences = {}\n",
    "\n",
    "    for val in data:\n",
    "        if val not in num_of_occurrences:\n",
    "            num_of_occurrences[val] = 1\n",
    "        else:\n",
    "            num_of_occurrences[val] += 1 \n",
    "\n",
    "    return num_of_occurrences"
   ]
  },
  {
   "cell_type": "markdown",
   "metadata": {},
   "source": [
    "1. По критерию Пирсона при уровне значимости α = 0,05 проверить\n",
    "нулевую гипотезу о нормальном распределении:\n",
    "\n",
    "а) случайной величины «возраст». Для этого разбить массив исходных\n",
    "данных на 7 групп с равными интервалами (концы интервала –\n",
    "целые).\n",
    "\n",
    "б) случайной величины «средний возраст», используя выборку\n",
    "средних, полученную в лабораторной работе №2."
   ]
  },
  {
   "cell_type": "markdown",
   "metadata": {},
   "source": [
    "a)"
   ]
  },
  {
   "cell_type": "code",
   "execution_count": 319,
   "metadata": {},
   "outputs": [],
   "source": [
    "def divide_to_same_intervals(data: list, n_parts: int): \n",
    "    data = sorted(data)\n",
    "    \n",
    "    \n",
    "    curr_interval_size = 1\n",
    "    \n",
    "    interval_is_ok = True\n",
    "    \n",
    "    prev_begin_id = 0\n",
    "    while interval_is_ok:        \n",
    "        curr_n_parts = 0\n",
    "        begin_id = 0\n",
    "        end_id = 1\n",
    "\n",
    "        # all_intervals = []\n",
    "        while end_id < len(data) and curr_n_parts <= n_parts:\n",
    "            while end_id < len(data) and data[end_id] - data[begin_id] <= curr_interval_size:\n",
    "                end_id += 1\n",
    "\n",
    "            # print(curr_n_parts,data[begin_id-1], data[begin_id], '|',data[end_id-1],data[end_id], data[end_id+1])\n",
    "            # all_intervals.append(data[begin_id:end_id])\n",
    "            if end_id-1 < len(data) and data[end_id-1] - data[begin_id] != curr_interval_size:\n",
    "                interval_is_ok = False\n",
    "                break\n",
    "\n",
    "            \n",
    "            prev_begin_id = begin_id\n",
    "            begin_id = end_id\n",
    "            curr_n_parts += 1\n",
    "\n",
    "        if not interval_is_ok:\n",
    "            break\n",
    "\n",
    "        elif end_id >= len(data) and curr_n_parts <= n_parts:\n",
    "            if data[len(data) - 1] - data[prev_begin_id] == curr_interval_size:\n",
    "                curr_interval_size += 1\n",
    "        \n",
    "            interval_is_ok = False\n",
    "        \n",
    "\n",
    "        else:\n",
    "            curr_interval_size += 1\n",
    "\n",
    "\n",
    "    final_interval_size = curr_interval_size - 1\n",
    "    \n",
    "    curr_n_parts = 0\n",
    "    begin_id = 0\n",
    "    end_id = 1\n",
    "    all_intervals = []\n",
    "\n",
    "    while end_id < len(data) and curr_n_parts < n_parts:\n",
    "        while end_id < len(data) and data[end_id] - data[begin_id] <= final_interval_size:\n",
    "            end_id += 1\n",
    "\n",
    "        all_intervals.append(data[begin_id:end_id])\n",
    "        begin_id = end_id \n",
    "        curr_n_parts += 1\n",
    "\n",
    "    return all_intervals, final_interval_size\n"
   ]
  },
  {
   "cell_type": "code",
   "execution_count": 320,
   "metadata": {},
   "outputs": [],
   "source": [
    "def gauss_func(x):\n",
    "    return 1 / ((2 * math.pi) ** 0.5) * math.e ** ( - (x) ** 2 / (2) )\n",
    "\n",
    "\n",
    "def count_theoretical_frequencies(data: list, h: int):\n",
    "    avg = count_avg(data)\n",
    "    # disp = count_dispersion(data)\n",
    "    sko = count_sko(data)\n",
    "    n = len(data)\n",
    "\n",
    "    freqs = {}\n",
    "\n",
    "    for val in data:\n",
    "        freqs[val] = h * n / sko * gauss_func((val - avg)/sko)\n",
    "\n",
    "    return freqs"
   ]
  },
  {
   "cell_type": "code",
   "execution_count": 321,
   "metadata": {},
   "outputs": [
    {
     "name": "stdout",
     "output_type": "stream",
     "text": [
      "interval_size 6\n",
      "k 4\n",
      "35.422777965528894 137.78847744681434 11.738333674198154\n",
      "{'14-20': 971, '21-27': 810, '28-34': 1115, '35-41': 1006, '42-48': 690, '49-55': 1060, '56-62': 266}\n",
      "{'14-20': 453.5081286409892, '21-27': 751.6238972258046, '28-34': 1124.0944307523448, '35-41': 1178.0460716427365, '42-48': 865.125309162156, '49-55': 618.184876031591, '56-62': 134.8017319301998}\n"
     ]
    },
    {
     "data": {
      "text/plain": [
       "<BarContainer object of 7 artists>"
      ]
     },
     "execution_count": 321,
     "metadata": {},
     "output_type": "execute_result"
    },
    {
     "data": {
      "image/png": "[encoded data removed]",
      "text/plain": [
       "<Figure size 640x480 with 2 Axes>"
      ]
     },
     "metadata": {},
     "output_type": "display_data"
    }
   ],
   "source": [
    "# уровень значимости\n",
    "a = 0.05\n",
    "\n",
    "\n",
    "all_samples, h = divide_to_same_intervals(data, 7)\n",
    "print('interval_size',h)\n",
    "k = 7 - 2 - 1 # это колво степеней свободы = 4 => pirson = 9.4877\n",
    "print('k',k)\n",
    "\n",
    "pirson = 9.4877\n",
    "\n",
    "group_freqs = {}\n",
    "group_mids = {}\n",
    "group_n_mids = {}\n",
    "group_mid_x_n = {}\n",
    "group_mid_x_n2 = {}\n",
    "\n",
    "# avg = count_avg(data)\n",
    "# sko = count_sko(data)\n",
    "\n",
    "n_mids = 0\n",
    "sum_mids = 0\n",
    "sum_mids2 = 0\n",
    "for sample in all_samples:\n",
    "    group_freqs[str(min(sample))+'-'+str(max(sample))] = sample.count(sample[len(sample)//2])\n",
    "    # group_mids[str(min(sample))+'-'+str(max(sample))] = sample[len(sample)//2]\n",
    "    # group_n_mids[str(min(sample))+'-'+str(max(sample))] = sample.count(sample[len(sample)//2])\n",
    "    # sample_mid = sample[len(sample)//2] * sample.count(sample[len(sample)//2])\n",
    "    sum_mids += sample[len(sample)//2] * sample.count(sample[len(sample)//2])\n",
    "    sum_mids2 += (sample[len(sample)//2] ** 2 )* sample.count(sample[len(sample)//2])\n",
    "    \n",
    "    n_mids += sample.count(sample[len(sample)//2])\n",
    "\n",
    "samples_avg = sum_mids / n_mids\n",
    "samples_dispersion = sum_mids2 / n_mids - (samples_avg**2)\n",
    "samples_sko = samples_dispersion ** 0.5\n",
    "\n",
    "print(samples_avg,samples_dispersion, samples_sko)\n",
    "\n",
    "theoretical_freqs = {}\n",
    "for sample in all_samples:\n",
    "    z_i = (sample[len(sample)//2]-samples_avg)/samples_sko\n",
    "    theoretical_freq = h * n_mids / samples_sko * gauss_func(z_i)\n",
    "\n",
    "    theoretical_freqs[str(min(sample))+'-'+str(max(sample))] =theoretical_freq\n",
    "\n",
    "\n",
    "print(group_freqs)\n",
    "print(theoretical_freqs)\n",
    "\n",
    "# plt.bar(list(group_freqs.keys()), group_freqs.values(), color='r')\n",
    "# plt.bar(list(theoretical_freqs.keys()), theoretical_freqs.values(), color='g')\n",
    "\n",
    "fig, axs = plt.subplots(2)\n",
    "axs[0].bar(list(group_freqs.keys()), group_freqs.values(), color='r')\n",
    "axs[1].bar(list(theoretical_freqs.keys()), theoretical_freqs.values(), color='g')"
   ]
  },
  {
   "cell_type": "code",
   "execution_count": 322,
   "metadata": {},
   "outputs": [
    {
     "name": "stdout",
     "output_type": "stream",
     "text": [
      "1099.141977861605\n"
     ]
    }
   ],
   "source": [
    "pirson = 0\n",
    "\n",
    "for val in group_freqs:\n",
    "    pirson += (group_freqs[val] - theoretical_freqs[val] ) ** 2 / theoretical_freqs[val]\n",
    "print(pirson)"
   ]
  },
  {
   "cell_type": "markdown",
   "metadata": {},
   "source": [
    "б)"
   ]
  },
  {
   "cell_type": "code",
   "execution_count": 323,
   "metadata": {},
   "outputs": [
    {
     "name": "stdout",
     "output_type": "stream",
     "text": [
      "группа  0 ; среднее:  36.46153846153846\n"
     ]
    },
    {
     "name": "stdout",
     "output_type": "stream",
     "text": [
      "группа  1 ; среднее:  33.8\n",
      "группа  2 ; среднее:  34.646153846153844\n",
      "группа  3 ; среднее:  37.2\n",
      "группа  4 ; среднее:  34.55384615384615\n",
      "группа  5 ; среднее:  35.4\n",
      "группа  6 ; среднее:  35.4\n",
      "группа  7 ; среднее:  35.03076923076923\n",
      "группа  8 ; среднее:  35.646153846153844\n",
      "группа  9 ; среднее:  36.89230769230769\n",
      "группа  10 ; среднее:  34.95384615384615\n",
      "группа  11 ; среднее:  37.52307692307692\n",
      "группа  12 ; среднее:  34.66153846153846\n",
      "группа  13 ; среднее:  36.184615384615384\n",
      "группа  14 ; среднее:  36.292307692307695\n",
      "группа  15 ; среднее:  36.92307692307692\n",
      "группа  16 ; среднее:  37.46153846153846\n",
      "группа  17 ; среднее:  37.23076923076923\n",
      "группа  18 ; среднее:  36.33846153846154\n",
      "группа  19 ; среднее:  35.55384615384615\n",
      "группа  20 ; среднее:  37.98461538461538\n",
      "группа  21 ; среднее:  36.96923076923077\n",
      "группа  22 ; среднее:  40.10769230769231\n",
      "группа  23 ; среднее:  38.215384615384615\n",
      "группа  24 ; среднее:  38.30769230769231\n",
      "группа  25 ; среднее:  39.753846153846155\n",
      "группа  26 ; среднее:  36.89230769230769\n",
      "группа  27 ; среднее:  34.01538461538462\n",
      "группа  28 ; среднее:  36.30769230769231\n",
      "группа  29 ; среднее:  36.66153846153846\n",
      "группа  30 ; среднее:  35.89230769230769\n",
      "группа  31 ; среднее:  36.92307692307692\n",
      "группа  32 ; среднее:  35.58461538461538\n",
      "группа  33 ; среднее:  35.69230769230769\n",
      "группа  34 ; среднее:  36.86153846153846\n",
      "группа  35 ; среднее:  39.8\n"
     ]
    }
   ],
   "source": [
    "import copy\n",
    "\n",
    "\n",
    "t=2\n",
    "sko = count_sko(data)\n",
    "accurancy = 3\n",
    "n = t ** 2 * sko ** 2 / (accurancy ** 2)\n",
    "\n",
    "all_samples = []\n",
    "all_avgs = []\n",
    "\n",
    "group_data = {}\n",
    "\n",
    "data_cp = copy.deepcopy(data)\n",
    "for group_id in range(36):\n",
    "    sample = []\n",
    "    for _ in range(math.ceil(n)):\n",
    "        val = np.random.choice(data_cp)\n",
    "        data_cp.remove(val)\n",
    "        sample.append(val)\n",
    "\n",
    "    all_avgs.append(count_avg(sample))\n",
    "    all_samples.append(sample)\n",
    "                    \n",
    "    print('группа ',group_id, '; среднее: ', count_avg(sample))\n",
    "\n",
    "    group_data[group_id] = count_avg(sample)"
   ]
  },
  {
   "cell_type": "code",
   "execution_count": 324,
   "metadata": {},
   "outputs": [
    {
     "data": {
      "text/plain": [
       "<BarContainer object of 36 artists>"
      ]
     },
     "execution_count": 324,
     "metadata": {},
     "output_type": "execute_result"
    },
    {
     "data": {
      "image/png": "[encoded data removed]",
      "text/plain": [
       "<Figure size 640x480 with 1 Axes>"
      ]
     },
     "metadata": {},
     "output_type": "display_data"
    }
   ],
   "source": [
    "plt.bar(list(group_data.keys()), group_data.values(), color='r')"
   ]
  },
  {
   "cell_type": "code",
   "execution_count": 325,
   "metadata": {},
   "outputs": [],
   "source": [
    "n_intervals = 5\n",
    "all_avgs = sorted(all_avgs)\n",
    "interval_step = math.floor((max(all_avgs) - min(all_avgs)) / n_intervals)\n",
    "\n",
    "\n",
    "all_intervals = []\n",
    "\n",
    "curr_interval_begin = math.floor(min(all_avgs))\n",
    "curr_interval_end = curr_interval_begin + interval_step\n",
    "\n",
    "for _ in range(n_intervals):\n",
    "    curr_interval = []\n",
    "    for val in all_avgs:\n",
    "        if val > curr_interval_begin and val <= curr_interval_end:\n",
    "            curr_interval.append(val)\n",
    "    \n",
    "    all_intervals.append(curr_interval)\n",
    "    \n",
    "    curr_interval_begin = curr_interval_end\n",
    "    curr_interval_end = curr_interval_end + interval_step\n"
   ]
  },
  {
   "cell_type": "code",
   "execution_count": 326,
   "metadata": {},
   "outputs": [
    {
     "name": "stdout",
     "output_type": "stream",
     "text": [
      "35.670769230769224 1.8363644970418136 1.3551252698705805\n",
      "{'33-34': 1, '34-35': 1, '35-36': 1, '36-37': 1, '37-38': 1}\n",
      "{'33-34': 3.405717631521332, '34-35': 6.636060304406996, '35-36': 8.814022997011817, '36-37': 6.003212299407002, '37-38': 3.6884706770907907}\n"
     ]
    },
    {
     "data": {
      "text/plain": [
       "<BarContainer object of 5 artists>"
      ]
     },
     "execution_count": 326,
     "metadata": {},
     "output_type": "execute_result"
    },
    {
     "data": {
      "image/png": "[encoded data removed]",
      "text/plain": [
       "<Figure size 640x480 with 2 Axes>"
      ]
     },
     "metadata": {},
     "output_type": "display_data"
    }
   ],
   "source": [
    "all_samples = all_intervals\n",
    "\n",
    "pirson = 9.4877\n",
    "\n",
    "group_freqs = {}\n",
    "theoretical_freqs = {}\n",
    "group_mids = {}\n",
    "group_n_mids = {}\n",
    "group_mid_x_n = {}\n",
    "group_mid_x_n2 = {}\n",
    "\n",
    "\n",
    "\n",
    "curr_interval_begin = math.floor(min(all_avgs))\n",
    "curr_interval_end = curr_interval_begin + interval_step\n",
    "\n",
    "\n",
    "n_mids = 0\n",
    "sum_mids = 0\n",
    "sum_mids2 = 0\n",
    "for sample in all_samples:\n",
    "    group_freqs[str(curr_interval_begin)+'-'+str(curr_interval_end)] = sample.count(sample[len(sample)//2])\n",
    "    sum_mids += sample[len(sample)//2] * sample.count(sample[len(sample)//2])\n",
    "    sum_mids2 += (sample[len(sample)//2] ** 2 )* sample.count(sample[len(sample)//2])\n",
    "    \n",
    "    n_mids += sample.count(sample[len(sample)//2])\n",
    "\n",
    "\n",
    "    curr_interval_begin = curr_interval_end\n",
    "    curr_interval_end = curr_interval_end + interval_step\n",
    "\n",
    "samples_avg = sum_mids / n_mids\n",
    "samples_dispersion = sum_mids2 / n_mids - (samples_avg**2)\n",
    "samples_sko = samples_dispersion ** 0.5\n",
    "\n",
    "print(samples_avg,samples_dispersion, samples_sko)\n",
    "\n",
    "curr_interval_begin = math.floor(min(all_avgs))\n",
    "curr_interval_end = curr_interval_begin + interval_step\n",
    "\n",
    "\n",
    "for sample in all_samples:\n",
    "    z_i = (sample[len(sample)//2]-samples_avg)/samples_sko\n",
    "    theoretical_freq = h * n_mids / samples_sko * gauss_func(z_i)\n",
    "\n",
    "    theoretical_freqs[str(curr_interval_begin)+'-'+str(curr_interval_end)] =theoretical_freq\n",
    "\n",
    "    curr_interval_begin = curr_interval_end\n",
    "    curr_interval_end = curr_interval_end + interval_step\n",
    "\n",
    "print(group_freqs)\n",
    "print(theoretical_freqs)\n",
    "\n",
    "\n",
    "\n",
    "fig, axs = plt.subplots(2)\n",
    "axs[0].bar(list(group_freqs.keys()), group_freqs.values(), color='r')\n",
    "axs[1].bar(list(theoretical_freqs.keys()), theoretical_freqs.values(), color='g')\n"
   ]
  },
  {
   "cell_type": "code",
   "execution_count": 327,
   "metadata": {},
   "outputs": [
    {
     "name": "stdout",
     "output_type": "stream",
     "text": [
      "19.542947728681426\n"
     ]
    }
   ],
   "source": [
    "pirson = 0\n",
    "\n",
    "for val in group_freqs:\n",
    "    pirson += (group_freqs[val] - theoretical_freqs[val] ) ** 2 / theoretical_freqs[val]\n",
    "print(pirson)"
   ]
  },
  {
   "cell_type": "markdown",
   "metadata": {},
   "source": [
    "2. По двум сгенерированным выборкам из лабораторной работы №2\n",
    "проверить нулевую гипотезу о равенстве дисперсий генеральных\n",
    "совокупностей при уровне значимости 0,05 при конкурирующей гипотезе:\n",
    "\n",
    "а) 𝐻1: 𝐷1 > 𝐷2\n",
    "\n",
    "б) 𝐻1: 𝐷1 ≠ 𝐷2."
   ]
  },
  {
   "cell_type": "code",
   "execution_count": 328,
   "metadata": {},
   "outputs": [
    {
     "name": "stdout",
     "output_type": "stream",
     "text": [
      "[36.184615384615384, 36.292307692307695, 36.30769230769231, 36.33846153846154, 36.46153846153846, 36.66153846153846, 36.86153846153846, 36.89230769230769, 36.89230769230769, 36.92307692307692, 36.92307692307692, 36.96923076923077]\n",
      "[35.03076923076923, 35.4, 35.4, 35.55384615384615, 35.58461538461538, 35.646153846153844, 35.69230769230769, 35.89230769230769]\n"
     ]
    }
   ],
   "source": [
    "sample1 = None\n",
    "sample2 = None\n",
    "\n",
    "max1 = 0\n",
    "max2 = 0\n",
    "for sample in all_samples:\n",
    "    if len(sample) > max1:\n",
    "        if max1:\n",
    "            max2=max1\n",
    "            sample2=copy.deepcopy(sample1)\n",
    "        \n",
    "        max1 = len(sample)\n",
    "        sample1=copy.deepcopy(sample)\n",
    "\n",
    "\n",
    "\n",
    "print(sample1)\n",
    "print(sample2)"
   ]
  },
  {
   "cell_type": "markdown",
   "metadata": {},
   "source": [
    "a)"
   ]
  },
  {
   "cell_type": "code",
   "execution_count": 330,
   "metadata": {},
   "outputs": [
    {
     "name": "stdout",
     "output_type": "stream",
     "text": [
      "f= 1.961774960289402\n",
      "s1= 0.09153846153846089 s2= 0.06535502958579853\n"
     ]
    }
   ],
   "source": [
    "sample1_avg = count_avg(sample1)\n",
    "sample2_avg = count_avg(sample2)\n",
    "\n",
    "s1 = 0\n",
    "\n",
    "for val in sample1:\n",
    "    s1 += (val - sample1_avg) ** 2\n",
    "s1 = s1 / (len(sample1) - 1)\n",
    "\n",
    "\n",
    "s2 = 0\n",
    "\n",
    "for val in sample2:\n",
    "    s2 += (val - sample2_avg) ** 2\n",
    "s2 = s2 / (len(sample2) - 1)\n",
    "\n",
    "f = max(s1,s2)**2 / min(s1,s2) ** 2\n",
    "print('f=', f)\n",
    "\n",
    "print('s1=',s1,'s2=',s2)"
   ]
  },
  {
   "cell_type": "code",
   "execution_count": 331,
   "metadata": {},
   "outputs": [
    {
     "name": "stdout",
     "output_type": "stream",
     "text": [
      "k1= 11 k2= 7\n"
     ]
    }
   ],
   "source": [
    "k1 = len(sample1) - 1\n",
    "k2 = len(sample2) - 1\n",
    "print('k1=',k1,'k2=',k2)"
   ]
  },
  {
   "cell_type": "code",
   "execution_count": null,
   "metadata": {},
   "outputs": [],
   "source": [
    "# 𝐹кр(0,05; 11; 7) = 3,603037269\n",
    "\n",
    "# => fнабл < fкр ⟹ нет оснований отвергнуть гипотезу 𝐻0"
   ]
  },
  {
   "cell_type": "markdown",
   "metadata": {},
   "source": [
    "б)"
   ]
  },
  {
   "cell_type": "code",
   "execution_count": null,
   "metadata": {},
   "outputs": [],
   "source": [
    "# 𝐹кр(0,025; 11; 7) = 4,709469858\n",
    "# => fнабл < fкр ⟹ нет оснований отвергнуть гипотезу 𝐻0\n"
   ]
  }
 ],
 "metadata": {
  "kernelspec": {
   "display_name": "Python 3",
   "language": "python",
   "name": "python3"
  },
  "language_info": {
   "codemirror_mode": {
    "name": "ipython",
    "version": 3
   },
   "file_extension": ".py",
   "mimetype": "text/x-python",
   "name": "python",
   "nbconvert_exporter": "python",
   "pygments_lexer": "ipython3",
   "version": "3.10.12"
  }
 },
 "nbformat": 4,
 "nbformat_minor": 2
}
