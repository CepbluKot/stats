{
 "cells": [
  {
   "cell_type": "code",
   "execution_count": 12,
   "metadata": {},
   "outputs": [],
   "source": [
    "import numpy as np\n",
    "import math\n",
    "from scipy.stats import norm, chi2, f\n",
    "\n",
    "\n",
    "arr_age=None\n",
    "with open('Москва_2021.txt') as file:\n",
    "    data = [int(line.strip()) for line in file.readlines()]\n",
    "\n",
    "arr_age = np.array(data, dtype=int)\n"
   ]
  },
  {
   "cell_type": "code",
   "execution_count": 13,
   "metadata": {},
   "outputs": [],
   "source": [
    "\n",
    "#Расчет интервала возрастов и середина частичных интервалов\n",
    "def calc_interval(max_data, min_data, num_group):\n",
    "    size_data = np.ceil((max_data - min_data) / num_group)\n",
    "    range_data = np.zeros((num_group, 2), dtype=int)\n",
    "    middle_data_x = np.zeros(num_group, dtype=float)\n",
    "    for i in range(s):\n",
    "        range_data[i][0] = min_data + size_data * i\n",
    "        range_data[i][1] = range_data[i][0] + size_data\n",
    "        middle_data_x[i] = (range_data[i][0] + range_data[i][1]) / 2\n",
    "    return range_data, middle_data_x\n",
    "\n",
    "\n",
    "#Расчет наблюдаемых частот\n",
    "def observed_frequencies(data, range_data, num_group):\n",
    "    observed_freq_data = np.zeros(num_group, dtype=int)\n",
    "    for i in range(num_group):\n",
    "        for age in data:\n",
    "            if range_data[i][0] <= age < range_data[i][1]:\n",
    "                observed_freq_data[i] += 1\n",
    "    return observed_freq_data\n",
    "\n",
    "\n",
    "#нахождение среднего\n",
    "def find_avg(middle_data_x, observed_freq_data, num_group):\n",
    "    mean_data_x = 0\n",
    "    for i in range(num_group):\n",
    "        mean_data_x += middle_data_x[i] * observed_freq_data[i]\n",
    "    mean_data_x /= sum(observed_freq_data)\n",
    "    return mean_data_x\n",
    "\n",
    "\n",
    "#СКО и Дисперсия\n",
    "def find_dev_variance(middle_data_x, avr_data_x, observed_freq_data, num_group):\n",
    "    dev_data = 0\n",
    "    var_data = 0\n",
    "    for i in range(num_group):\n",
    "        var_data += (middle_data_x[i] - avr_data_x)**2 * observed_freq_data[i]\n",
    "    var_data /= sum(observed_freq_data)\n",
    "    dev_data = math.sqrt(var_data)\n",
    "    return dev_data, var_data\n",
    "\n",
    "#Нормирование случайной велечины и вычисление функции лапласа\n",
    "def normalization_and_laplace(range_data, avr_data_x, dev_data, num_group):\n",
    "    z_data = np.zeros((num_group, 2), dtype=float)\n",
    "    F_data = np.zeros((num_group, 2), dtype=float)\n",
    "    for i in range(num_group):\n",
    "        if i == 0:\n",
    "            z_data[i][0] = float('-inf')\n",
    "            z_data[i][1] = (range_data[i][1] - avr_data_x) / dev_data\n",
    "            F_data[i][0] = norm.cdf(z_data[i][0]) - 0.5\n",
    "            F_data[i][1] = norm.cdf(z_data[i][1]) - 0.5\n",
    "        elif i == s-1:\n",
    "            z_data[i][0] = (range_data[i][0] - avr_data_x) / dev_data\n",
    "            z_data[i][1] = float('inf')\n",
    "            F_data[i][0] = norm.cdf(z_data[i][0]) - 0.5\n",
    "            F_data[i][1] = norm.cdf(z_data[i][1]) - 0.5\n",
    "        else:\n",
    "            z_data[i][0] = (range_data[i][0] - avr_data_x) / dev_data\n",
    "            z_data[i][1] = (range_data[i][1] - avr_data_x) / dev_data\n",
    "            F_data[i][0] = norm.cdf(z_data[i][0]) - 0.5\n",
    "            F_data[i][1] = norm.cdf(z_data[i][1]) - 0.5\n",
    "    return z_data, F_data\n",
    "\n",
    "\n",
    "#Вычисление вероятностей и теоретических частот\n",
    "def prob_expected_freq(F_data, observed_freq_data, num_group):\n",
    "    p_data = np.zeros(num_group, dtype=float)\n",
    "    expected_freq_data = np.zeros(num_group, dtype=float)\n",
    "    for i in range(num_group):\n",
    "        p_data[i] = F_data[i][1] - F_data[i][0]\n",
    "        expected_freq_data[i] = p_data[i] * sum(observed_freq_data)\n",
    "    return p_data, expected_freq_data\n"
   ]
  },
  {
   "cell_type": "markdown",
   "metadata": {},
   "source": [
    "1. По критерию Пирсона при уровне значимости α = 0,05 проверить\n",
    "нулевую гипотезу о нормальном распределении:\n",
    "\n",
    "а) случайной величины «возраст». Для этого разбить массив исходных\n",
    "данных на 7 групп с равными интервалами (концы интервала –\n",
    "целые).\n",
    "\n",
    "б) случайной величины «средний возраст», используя выборку\n",
    "средних, полученную в лабораторной работе №2."
   ]
  },
  {
   "cell_type": "markdown",
   "metadata": {},
   "source": [
    "a) случайной величины «возраст». Для этого разбить массив исходных\n",
    "данных на 7 групп с равными интервалами (концы интервала –\n",
    "целые)."
   ]
  },
  {
   "cell_type": "code",
   "execution_count": 14,
   "metadata": {},
   "outputs": [],
   "source": [
    "min_age = min(arr_age)\n",
    "max_age = max(arr_age)\n",
    "\n",
    "#Количсество групп\n",
    "s = 7\n",
    "\n",
    "#Интервал возрастов и середины этих интервалов\n",
    "range_age, middle_age = calc_interval(max_age, min_age, s)\n",
    "\n",
    "#Наблюдаемые частоты\n",
    "observed_freq = observed_frequencies(arr_age, range_age, s)\n",
    "\n",
    "#Среднее\n",
    "mean_age = find_avg(middle_age, observed_freq, s)\n",
    "\n",
    "#СКО и Дисперсия\n",
    "dev_age, var_age = find_dev_variance(middle_age, mean_age, observed_freq, s)\n",
    "\n",
    "#Нормирование случайной величины (Интервал Z) и функция лапласа\n",
    "z, F = normalization_and_laplace(range_age, mean_age, dev_age, s)\n",
    "\n",
    "#Определение вероятностей и теоретических частот\n",
    "p, expected_freq = prob_expected_freq(F, observed_freq, s)\n"
   ]
  },
  {
   "cell_type": "code",
   "execution_count": 15,
   "metadata": {},
   "outputs": [
    {
     "name": "stdout",
     "output_type": "stream",
     "text": [
      "\tВозраст\n",
      "Критическое значение: 9.487729036781154\n",
      "Критерий Пирсона: 3233.265672268172\n",
      "Нулевая гипотеза (о нормальном распределении) отвергается\n"
     ]
    }
   ],
   "source": [
    "#Критери Пирсона\n",
    "chi_squared_statistic = sum((observed_freq - expected_freq)**2 / expected_freq)\n",
    "alpha = 0.05\n",
    "k = s - 1 - 2 # -2 т.к. у нас два параметра\n",
    "critical_value = chi2.ppf(1 - alpha, k)\n",
    "print('\\tВозраст')\n",
    "print(f\"Критическое значение: {critical_value}\")\n",
    "print(f\"Критерий Пирсона: {chi_squared_statistic}\")\n",
    "\n",
    "# Проверка нулевой гипотезы\n",
    "if chi_squared_statistic < critical_value:\n",
    "    print(\"Нулевая гипотеза (о нормальном распределении) принимается\")\n",
    "else:\n",
    "    print(\"Нулевая гипотеза (о нормальном распределении) отвергается\")\n"
   ]
  },
  {
   "cell_type": "code",
   "execution_count": null,
   "metadata": {},
   "outputs": [],
   "source": []
  },
  {
   "cell_type": "markdown",
   "metadata": {},
   "source": [
    "б) случайной величины «средний возраст», используя выборку\n",
    "средних, полученную в лабораторной работе №2."
   ]
  },
  {
   "cell_type": "code",
   "execution_count": 16,
   "metadata": {},
   "outputs": [
    {
     "name": "stdout",
     "output_type": "stream",
     "text": [
      "\n",
      "\tСредный возраст\n",
      "Критическое значение: 11.070497693516351\n",
      "Критерий Пирсона: 3.282724892182324\n",
      "Нулевая гипотеза о нормальном распределении принимается\n"
     ]
    }
   ],
   "source": [
    "gamma = 0.95\n",
    "delta = 3\n",
    "Z = 1.96  # для gamma = 0.95\n",
    "\n",
    "#Объем выборки\n",
    "n = math.ceil((Z * np.std(arr_age) / delta) ** 2)\n",
    "# Генерация выборок и расчет выборочных средних\n",
    "means = []\n",
    "for _ in range(36):\n",
    "    sample = np.random.choice(arr_age, size=n, replace=True)\n",
    "    means.append(np.mean(sample))\n",
    "\n",
    "min_mean = int(np.floor(np.min(means)))\n",
    "max_mean = int(np.ceil(np.max(means)))\n",
    "s = max_mean - min_mean\n",
    "# Интервал возрастов и середины этих интервалов\n",
    "range_age_mean, middle_age_mean = calc_interval(max_mean, min_mean, s)\n",
    "\n",
    "# Наблюдаемые частоты\n",
    "observed_freq_mean = observed_frequencies(means, range_age_mean, s)\n",
    "\n",
    "# Среднее\n",
    "mean_age_mean = find_avg(middle_age_mean, observed_freq_mean, s)\n",
    "\n",
    "# Дисперсия и СКО\n",
    "dev_age_mean, var_age_mean = find_dev_variance(middle_age_mean, mean_age_mean, observed_freq_mean, s)\n",
    "\n",
    "# Нормирование случайной величины (Интервал Z) и функция лапласа\n",
    "z_mean, F_mean = normalization_and_laplace(range_age_mean, mean_age_mean, dev_age_mean, s)\n",
    "\n",
    "# Определение вероятностей и теоретических частот\n",
    "p_mean, expected_freq_mean = prob_expected_freq(F_mean, observed_freq_mean, s)\n",
    "\n",
    "# Критери Пирсона\n",
    "chi_squared_statistic = sum((observed_freq_mean - expected_freq_mean) ** 2 / expected_freq_mean)\n",
    "alpha = 0.05\n",
    "k = s - 1 - 2\n",
    "critical_value = chi2.ppf(1 - alpha, k)\n",
    "print('\\n\\tСредный возраст')\n",
    "print(f\"Критическое значение: {critical_value}\")\n",
    "print(f\"Критерий Пирсона: {chi_squared_statistic}\")\n",
    "\n",
    "# Проверка нулевой гипотезы\n",
    "if chi_squared_statistic < critical_value:\n",
    "    print(\"Нулевая гипотеза о нормальном распределении принимается\")\n",
    "else:\n",
    "    print(\"Нулевая гипотеза о нормальном распределении отвергается\")\n"
   ]
  },
  {
   "cell_type": "markdown",
   "metadata": {},
   "source": [
    "2. По двум сгенерированным выборкам из лабораторной работы №2\n",
    "проверить нулевую гипотезу о равенстве дисперсий генеральных\n",
    "совокупностей при уровне значимости 0,05 при конкурирующей гипотезе:\n",
    "\n",
    "а) 𝐻1: 𝐷1 > 𝐷2\n",
    "\n",
    "б) 𝐻1: 𝐷1 ≠ 𝐷2."
   ]
  },
  {
   "cell_type": "code",
   "execution_count": 17,
   "metadata": {},
   "outputs": [],
   "source": [
    "# сравнение дисперсий выборок "
   ]
  },
  {
   "cell_type": "markdown",
   "metadata": {},
   "source": [
    "a)"
   ]
  },
  {
   "cell_type": "code",
   "execution_count": 18,
   "metadata": {},
   "outputs": [
    {
     "name": "stdout",
     "output_type": "stream",
     "text": [
      "\n",
      "\n",
      "Проверка нулевая гипотеза H0: D1 = D2 при при конкурирующей гипотезе H1: D1 > D2\n",
      "Fнабл = 1.803095384350357 \n",
      "Fкр = 1.52883314723055\n",
      "Нулевая гипотеза отвергается\n"
     ]
    }
   ],
   "source": [
    "sel1 = np.random.choice(arr_age, size=n, replace=True)\n",
    "sel2 = np.random.choice(arr_age, size=n, replace=True)\n",
    "\n",
    "dic_sel1 = {}\n",
    "dic_sel2 = {}\n",
    "for age in sel1:\n",
    "    dic_sel1[age] = dic_sel1.get(age, 0) + 1\n",
    "\n",
    "for age in sel2:\n",
    "    dic_sel2[age] = dic_sel2.get(age, 0) + 1\n",
    "\n",
    "#Нахождение средних\n",
    "avr_sel1 = sum((age * freq) for age, freq in dic_sel1.items()) / sum(dic_sel1.values())\n",
    "avr_sel2 = sum((age * freq) for age, freq in dic_sel2.items()) / sum(dic_sel2.values())\n",
    "\n",
    "#Нахождение дисперсии\n",
    "var_sel1 = (sum(((age - avr_sel1)**2 * freq) for age, freq in dic_sel1.items()) / (sum(dic_sel1.values()) - 1))\n",
    "var_sel2 = (sum(((age - avr_sel2)**2 * freq) for age, freq in dic_sel2.items()) / (sum(dic_sel2.values()) - 1))\n",
    "\n",
    "#Проверка гипотез\n",
    "F_observed = max(var_sel1, var_sel2) / min(var_sel1, var_sel2)\n",
    "\n",
    "#Степень свободы\n",
    "k1 = n - 1\n",
    "k2 = n - 1\n",
    "\n",
    "#конкурирующая гипотеза H1: D1 > D2\n",
    "alpha = 0.05\n",
    "F_critical = f.ppf(1 - alpha, k1, k2)\n",
    "print(\"\\n\\nПроверка нулевая гипотеза H0: D1 = D2 при при конкурирующей гипотезе H1: D1 > D2\")\n",
    "print(f'Fнабл = {F_observed} \\nFкр = {F_critical}')\n",
    "if F_observed < F_critical:\n",
    "    print('Нет оснований отвергать нулевую гипотезу')\n",
    "else:\n",
    "    print('Нулевая гипотеза отвергается')"
   ]
  },
  {
   "cell_type": "markdown",
   "metadata": {},
   "source": [
    "б)"
   ]
  },
  {
   "cell_type": "code",
   "execution_count": 19,
   "metadata": {},
   "outputs": [
    {
     "ename": "IndentationError",
     "evalue": "unexpected indent (119438098.py, line 2)",
     "output_type": "error",
     "traceback": [
      "\u001b[0;36m  Cell \u001b[0;32mIn[19], line 2\u001b[0;36m\u001b[0m\n\u001b[0;31m    print(\"\\n\\nПроверка нулевая гипотеза H0: D1 = D2 при конкурирующей гипотезе H1: D1 != D2\")\u001b[0m\n\u001b[0m    ^\u001b[0m\n\u001b[0;31mIndentationError\u001b[0m\u001b[0;31m:\u001b[0m unexpected indent\n"
     ]
    }
   ],
   "source": [
    "F_critical = f.ppf(1-alpha, k1, k2)\n",
    "    print(\"\\n\\nПроверка нулевая гипотеза H0: D1 = D2 при конкурирующей гипотезе H1: D1 != D2\")\n",
    "    print(f'Fнабл = {F_observed} \\nFкр = {F_critical}')\n",
    "    if F_observed < F_critical:\n",
    "        print('Нет оснований отвергать нулевую гипотезу')\n",
    "    else:\n",
    "        print('Нулевая гипотеза отвергается')"
   ]
  }
 ],
 "metadata": {
  "kernelspec": {
   "display_name": "Python 3",
   "language": "python",
   "name": "python3"
  },
  "language_info": {
   "codemirror_mode": {
    "name": "ipython",
    "version": 3
   },
   "file_extension": ".py",
   "mimetype": "text/x-python",
   "name": "python",
   "nbconvert_exporter": "python",
   "pygments_lexer": "ipython3",
   "version": "3.10.12"
  }
 },
 "nbformat": 4,
 "nbformat_minor": 2
}
